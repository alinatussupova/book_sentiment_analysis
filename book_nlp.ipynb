{
 "cells": [
  {
   "cell_type": "markdown",
   "id": "dfd8cad1-f8bd-4411-84ff-e448603656f4",
   "metadata": {},
   "source": [
    "# Sentiment Analysis of \"The Great Gatsby\", using Natural Language Processing."
   ]
  },
  {
   "cell_type": "markdown",
   "id": "953f164e-8581-4a6f-89ec-9238c4b3ba5e",
   "metadata": {},
   "source": [
    "## Load the Data"
   ]
  },
  {
   "cell_type": "code",
   "execution_count": 1,
   "id": "ed92bf19-d22c-4d44-8a03-15aa8a9dac8f",
   "metadata": {},
   "outputs": [],
   "source": [
    "with open(\"the_great_gatsby.txt\", \"r\", encoding=\"utf-8\") as file:\n",
    "    book = file.read()"
   ]
  },
  {
   "cell_type": "code",
   "execution_count": 2,
   "id": "e0a6756c-27d5-4565-8bac-6f37e40b3480",
   "metadata": {},
   "outputs": [],
   "source": [
    "import re"
   ]
  },
  {
   "cell_type": "code",
   "execution_count": 3,
   "id": "67d8f906-5c4f-405a-8cae-2050b0b02a41",
   "metadata": {},
   "outputs": [
    {
     "data": {
      "text/plain": [
       "['once', 'again', 'to', 'zelda', 'then']"
      ]
     },
     "execution_count": 3,
     "metadata": {},
     "output_type": "execute_result"
    }
   ],
   "source": [
    "pattern = re.compile(\"[a-zA-Z]+\")\n",
    "findings = re.findall(pattern, book.lower())\n",
    "findings[:5]"
   ]
  },
  {
   "cell_type": "code",
   "execution_count": 4,
   "id": "4a7363bf-74c2-4427-88cb-85303d697147",
   "metadata": {},
   "outputs": [],
   "source": [
    "d = {}\n",
    "for word in findings:\n",
    "    if word in d.keys():\n",
    "        d[word] += 1\n",
    "    else:\n",
    "        d[word] = 1"
   ]
  },
  {
   "cell_type": "code",
   "execution_count": 5,
   "id": "e4804091-2b2d-435f-8432-94201873f3ae",
   "metadata": {},
   "outputs": [
    {
     "data": {
      "text/plain": [
       "[(2579, 'the'), (1633, 'and'), (1470, 'a'), (1391, 'i'), (1235, 'of')]"
      ]
     },
     "execution_count": 5,
     "metadata": {},
     "output_type": "execute_result"
    }
   ],
   "source": [
    "d_list = [(value, key) for (key, value) in d.items()]\n",
    "d_list = sorted(d_list, reverse=True)\n",
    "d_list[:5]"
   ]
  },
  {
   "cell_type": "code",
   "execution_count": 8,
   "id": "e4c37c55-4653-4fe8-a8f5-0dddc81b5d6d",
   "metadata": {},
   "outputs": [
    {
     "name": "stderr",
     "output_type": "stream",
     "text": [
      "[nltk_data] Downloading package stopwords to\n",
      "[nltk_data]     C:\\Users\\Alser\\AppData\\Roaming\\nltk_data...\n",
      "[nltk_data]   Package stopwords is already up-to-date!\n"
     ]
    },
    {
     "data": {
      "text/plain": [
       "True"
      ]
     },
     "execution_count": 8,
     "metadata": {},
     "output_type": "execute_result"
    }
   ],
   "source": [
    "import nltk\n",
    "nltk.download('stopwords')"
   ]
  },
  {
   "cell_type": "code",
   "execution_count": 9,
   "id": "a6787579-2ce0-49d5-a981-b739aa3a84df",
   "metadata": {},
   "outputs": [],
   "source": [
    "from nltk.corpus import stopwords\n",
    "\n",
    "eng_stopws = stopwords.words(\"english\")"
   ]
  },
  {
   "cell_type": "code",
   "execution_count": 10,
   "id": "00bf92a9-a2d4-4f12-8c56-ced1e182f82a",
   "metadata": {},
   "outputs": [],
   "source": [
    "filtered_words = []\n",
    "for count, word in d_list:\n",
    "    if word not in eng_stopws:\n",
    "        filtered_words.append((word, count))"
   ]
  },
  {
   "cell_type": "code",
   "execution_count": 11,
   "id": "bb814ff8-d8a6-4061-aa20-dce8a1a3d816",
   "metadata": {},
   "outputs": [
    {
     "data": {
      "text/plain": [
       "[('gatsby', 264),\n",
       " ('said', 235),\n",
       " ('tom', 191),\n",
       " ('daisy', 186),\n",
       " ('one', 154),\n",
       " ('like', 122),\n",
       " ('man', 114),\n",
       " ('back', 109),\n",
       " ('came', 108),\n",
       " ('little', 103)]"
      ]
     },
     "execution_count": 11,
     "metadata": {},
     "output_type": "execute_result"
    }
   ],
   "source": [
    "filtered_words[:10]"
   ]
  },
  {
   "cell_type": "markdown",
   "id": "8d9a2cc9-e573-48db-9dd9-a3a958daaf4e",
   "metadata": {},
   "source": [
    "### Chapters sentiment analysis. The most positive and negative chapters."
   ]
  },
  {
   "cell_type": "code",
   "execution_count": 12,
   "id": "475bcf98-2f2f-4285-a5cd-9b112f49add5",
   "metadata": {},
   "outputs": [],
   "source": [
    "from nltk.sentiment import SentimentIntensityAnalyzer"
   ]
  },
  {
   "cell_type": "code",
   "execution_count": 13,
   "id": "20782cd7-8690-4d46-9986-73f62baeb888",
   "metadata": {},
   "outputs": [
    {
     "name": "stderr",
     "output_type": "stream",
     "text": [
      "[nltk_data] Downloading package vader_lexicon to\n",
      "[nltk_data]     C:\\Users\\Alser\\AppData\\Roaming\\nltk_data...\n",
      "[nltk_data]   Package vader_lexicon is already up-to-date!\n"
     ]
    },
    {
     "data": {
      "text/plain": [
       "True"
      ]
     },
     "execution_count": 13,
     "metadata": {},
     "output_type": "execute_result"
    }
   ],
   "source": [
    "nltk.download('vader_lexicon')"
   ]
  },
  {
   "cell_type": "code",
   "execution_count": 14,
   "id": "4dc96386-7a7b-4d1c-a7b8-fb5b83f7a91e",
   "metadata": {},
   "outputs": [],
   "source": [
    "analyzer = SentimentIntensityAnalyzer()"
   ]
  },
  {
   "cell_type": "markdown",
   "id": "1caed9c0-6dc3-45b5-a93b-0ba2cdf55eae",
   "metadata": {},
   "source": [
    "#### For example, let's take the follow sentence:"
   ]
  },
  {
   "cell_type": "code",
   "execution_count": 15,
   "id": "95b44ceb-c62a-49df-a667-bbac91f7991e",
   "metadata": {},
   "outputs": [],
   "source": [
    "text = analyzer.polarity_scores(\"What a beautiful flowers. I just adore them.\")"
   ]
  },
  {
   "cell_type": "code",
   "execution_count": 16,
   "id": "0e03c21a-cac4-4b3d-850c-ea6b9651084b",
   "metadata": {},
   "outputs": [
    {
     "name": "stdout",
     "output_type": "stream",
     "text": [
      "It's positive text!\n"
     ]
    }
   ],
   "source": [
    "if text[\"pos\"] > text[\"neg\"]:\n",
    "    print(\"It's positive text!\")\n",
    "else:\n",
    "    print(\"It's negative text!\")"
   ]
  },
  {
   "cell_type": "code",
   "execution_count": 17,
   "id": "9124c67a-c674-4714-ba98-c1c23ec44df3",
   "metadata": {},
   "outputs": [
    {
     "data": {
      "text/plain": [
       "{'neg': 0.079, 'neu': 0.817, 'pos': 0.105, 'compound': 1.0}"
      ]
     },
     "execution_count": 17,
     "metadata": {},
     "output_type": "execute_result"
    }
   ],
   "source": [
    "analyzer.polarity_scores(book)"
   ]
  },
  {
   "cell_type": "code",
   "execution_count": 18,
   "id": "6ca844ec-5d56-48c5-bcc6-3bf626fa0be4",
   "metadata": {},
   "outputs": [],
   "source": [
    "import re"
   ]
  },
  {
   "cell_type": "code",
   "execution_count": 25,
   "id": "af33a322-d523-42c8-a998-337f006efed6",
   "metadata": {},
   "outputs": [
    {
     "data": {
      "text/plain": [
       "9"
      ]
     },
     "execution_count": 25,
     "metadata": {},
     "output_type": "execute_result"
    }
   ],
   "source": [
    "book.count(\"Chapter\")"
   ]
  },
  {
   "cell_type": "code",
   "execution_count": 19,
   "id": "dc5d7f47-4c95-4420-98f7-c95ccd59386a",
   "metadata": {},
   "outputs": [],
   "source": [
    "pattern = re.compile(\"Chapter [0-9]+\")\n",
    "chapters = re.split(pattern, book)"
   ]
  },
  {
   "cell_type": "code",
   "execution_count": 20,
   "id": "7e3ba24f-1062-4a89-9108-266d19ca7ce6",
   "metadata": {},
   "outputs": [],
   "source": [
    "chapters = chapters[1:]"
   ]
  },
  {
   "cell_type": "code",
   "execution_count": 21,
   "id": "1b9001e3-9b6e-4efd-bd97-acb7d1b6004b",
   "metadata": {},
   "outputs": [
    {
     "name": "stdout",
     "output_type": "stream",
     "text": [
      "1 It's a positive mood chapter!\n",
      "2 It's a positive mood chapter!\n",
      "3 It's a positive mood chapter!\n",
      "4 It's a positive mood chapter!\n",
      "5 It's a positive mood chapter!\n",
      "6 It's a positive mood chapter!\n",
      "7 It's a negative mood chapter.\n",
      "8 It's a positive mood chapter!\n",
      "9 It's a positive mood chapter!\n"
     ]
    }
   ],
   "source": [
    "for num, chapter in enumerate(chapters):\n",
    "    scores = analyzer.polarity_scores(chapter)\n",
    "    if scores[\"pos\"] > scores[\"neg\"]:\n",
    "        print(f\"{num+1} It's a positive mood chapter!\")\n",
    "    else:\n",
    "        print(f\"{num+1} It's a negative mood chapter.\")"
   ]
  },
  {
   "cell_type": "code",
   "execution_count": 22,
   "id": "81fcbc1c-95d2-40c6-8c06-9f774052ce53",
   "metadata": {},
   "outputs": [
    {
     "name": "stdout",
     "output_type": "stream",
     "text": [
      "{'neg': 0.081, 'neu': 0.803, 'pos': 0.116, 'compound': 0.9998}\n",
      "{'neg': 0.075, 'neu': 0.847, 'pos': 0.078, 'compound': 0.9884}\n",
      "{'neg': 0.072, 'neu': 0.8, 'pos': 0.128, 'compound': 0.9999}\n",
      "{'neg': 0.065, 'neu': 0.831, 'pos': 0.104, 'compound': 0.9997}\n",
      "{'neg': 0.078, 'neu': 0.816, 'pos': 0.106, 'compound': 0.9994}\n",
      "{'neg': 0.07, 'neu': 0.821, 'pos': 0.109, 'compound': 0.9996}\n",
      "{'neg': 0.092, 'neu': 0.818, 'pos': 0.089, 'compound': 0.8323}\n",
      "{'neg': 0.071, 'neu': 0.815, 'pos': 0.114, 'compound': 0.9997}\n",
      "{'neg': 0.079, 'neu': 0.815, 'pos': 0.106, 'compound': 0.9998}\n"
     ]
    }
   ],
   "source": [
    "for num, chapter in enumerate(chapters):\n",
    "    scores = analyzer.polarity_scores(chapter)\n",
    "    print(scores)"
   ]
  },
  {
   "cell_type": "markdown",
   "id": "e67de0e3-64dd-4b51-aa9c-e005b4b6aba7",
   "metadata": {},
   "source": [
    "## Visualisation of data"
   ]
  },
  {
   "cell_type": "markdown",
   "id": "abf43eeb-a263-47ff-96b9-d560d5b13883",
   "metadata": {},
   "source": [
    "### Chapter with the highest level of positivity"
   ]
  },
  {
   "cell_type": "code",
   "execution_count": 23,
   "id": "0b1fc09b-cd47-4819-9be0-478b5275178b",
   "metadata": {},
   "outputs": [],
   "source": [
    "import matplotlib.pyplot as plt\n",
    "import numpy as np"
   ]
  },
  {
   "cell_type": "code",
   "execution_count": 24,
   "id": "520a00a0-1187-4c09-923a-da2fd40b96fc",
   "metadata": {},
   "outputs": [
    {
     "data": {
      "image/png": "[encoded data removed]",
      "text/plain": [
       "<Figure size 640x480 with 1 Axes>"
      ]
     },
     "metadata": {},
     "output_type": "display_data"
    }
   ],
   "source": [
    "x = np.array([\"1\", \"2\", \"3\", \"4\", \"5\", \"6\", \"7\", \"8\", \"9\"])\n",
    "y = np.array([0.106, 0.078, 0.128, 0.104, 0.106, 0.109, 0.089, 0.114, 0.106])\n",
    "\n",
    "plt.bar(x,y) \n",
    "\n",
    "plt.xlabel(\"Number of Chapter\")\n",
    "plt.ylabel(\"Level of positivity\")\n",
    "\n",
    "plt.show()"
   ]
  }
 ],
 "metadata": {
  "kernelspec": {
   "display_name": "Python 3 (ipykernel)",
   "language": "python",
   "name": "python3"
  },
  "language_info": {
   "codemirror_mode": {
    "name": "ipython",
    "version": 3
   },
   "file_extension": ".py",
   "mimetype": "text/x-python",
   "name": "python",
   "nbconvert_exporter": "python",
   "pygments_lexer": "ipython3",
   "version": "3.10.8"
  }
 },
 "nbformat": 4,
 "nbformat_minor": 5
}
